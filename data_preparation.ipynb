{
 "cells": [
  {
   "cell_type": "code",
   "execution_count": 1,
   "metadata": {},
   "outputs": [],
   "source": [
    "import pandas as pd\n",
    "import numpy as np\n",
    "\n",
    "df_list = []\n",
    "train_list = []\n",
    "test_list = []\n",
    "file_name = 'data/standard_{}.csv'\n",
    "test_months = [2012, 2102, 2104, 2106, 2108, 2110, 2112]\n",
    "months_list_start_1 = [1901, 1902, 1903, 1904, 1905, 1906, 1907, 1908, 1909, 1910, 1911, 1912, 2001, 2002, 2003, 2004, 2005, 2006, 2007, 2008, 2009, 2010, 2011, 2012, 2101, 2102, 2103, 2104, 2105, 2106, 2107, 2108, 2109, 2110, 2111]\n",
    "months_list_start_2 = [1902, 1903, 1904, 1905, 1906, 1907, 1908, 1909, 1910, 1911, 1912, 2001, 2002, 2003, 2004, 2005, 2006, 2007, 2008, 2009, 2010, 2011, 2012, 2101, 2102, 2103, 2104, 2105, 2106, 2107, 2108, 2109, 2110, 2111, 2112]\n",
    "month = pd.read_csv('data/standard_1901.csv', sep='|', dtype={'FOA': 'str', 'B-day': 'str', 'Rat': 'str'})\n",
    "month['Xp'] = 1\n",
    "month['RatDiff'] = 0\n",
    "month['RatChg'] = 0\n",
    "month = month.drop(columns=['Name'], axis=1)\n",
    "df_list.append(month)\n",
    "train_list.append(month)\n",
    "k = 1\n",
    "for i, j in zip(months_list_start_1, months_list_start_2):\n",
    "    month1 = df_list[-1]\n",
    "    month1['FOA'] = pd.Series(month1['FOA'], dtype='str')\n",
    "    month1['B-day'] = pd.Series(month1['B-day'], dtype='str')\n",
    "    month1['Rat'] = pd.Series(month1['Rat'], dtype='str')\n",
    "    month2 = pd.read_csv(file_name.format(j), sep='|', dtype={'FOA': 'str', 'B-day': 'str', 'Rat': 'str'})\n",
    "    month1['Rat'] = month1['Rat'].str.replace('M ', '')\n",
    "    month1['Rat'] = month1['Rat'].astype('int64')\n",
    "    month2['Rat'] = month2['Rat'].str.replace('M ', '')\n",
    "    month2['Rat'] = month2['Rat'].astype('int64')\n",
    "    prev_rating = month1[['ID Number', 'Rat', 'Xp']]\n",
    "    prev_rating = prev_rating.rename(columns={\"Rat\": \"PrevRat\"})\n",
    "    month2 = pd.merge(month2, prev_rating, how='left', sort=False)\n",
    "    month2['Xp'] = np.where(np.isnan(month2['PrevRat']), 0, k)\n",
    "    k += 1\n",
    "    month2['Xp'] = month2['Xp'] + 1\n",
    "    month2['PrevRat'] = month2['PrevRat'].fillna(month2['Rat'])\n",
    "    month2['RatDiff'] = month2['Rat'] - month2['PrevRat']\n",
    "    month2['RatChg'] = np.where(month2['RatDiff'] == 0, 0, np.where(month2['RatDiff'] >  0, 1, 2))\n",
    "    month2 = month2.drop(columns=['PrevRat', 'Name'], axis=1)\n",
    "    df_list.append(month2)\n",
    "    if j in test_months:\n",
    "        test_list.append(month2)\n",
    "    else:\n",
    "        train_list.append(month2)\n",
    "\n",
    "df = pd.concat(df_list)\n",
    "df.columns = df.columns.str.lower()\n",
    "df['b-day'] = df['b-day'].str.replace('0 ', '')\n",
    "df['b-day'] = df['b-day'].astype('int64')\n",
    "df['b-day'].replace(to_replace = 0, value = df['b-day'].median(), inplace=True)\n",
    "df['age'] = df['year'] - df['b-day']\n",
    "df = df.drop(columns=['b-day'], axis=1)\n",
    "\n",
    "train = pd.concat(train_list)\n",
    "test = pd.concat(test_list)\n",
    "\n",
    "train.columns = train.columns.str.lower()\n",
    "train['b-day'] = train['b-day'].str.replace('0 ', '')\n",
    "train['b-day'] = train['b-day'].astype('int64')\n",
    "train['b-day'].replace(to_replace = 0, value = train['b-day'].median(), inplace=True)\n",
    "train['age'] = train['year'] - train['b-day']\n",
    "train = train.drop(columns=['b-day'], axis=1)\n",
    "\n",
    "test.columns = test.columns.str.lower()\n",
    "test['b-day'] = test['b-day'].str.replace('0 ', '')\n",
    "test['b-day'] = test['b-day'].astype('int64')\n",
    "test['b-day'].replace(to_replace = 0, value = test['b-day'].median(), inplace=True)\n",
    "test['age'] = test['year'] - test['b-day']\n",
    "test = test.drop(columns=['b-day'], axis=1)\n",
    "\n",
    "compression_opts = dict(method='zip', archive_name='data/full.csv')\n",
    "df.to_csv('data/full.zip', index=False, compression=compression_opts)\n",
    "\n",
    "compression_opts = dict(method='zip', archive_name='data/train.csv')\n",
    "train.to_csv('data/train.zip', index=False, compression=compression_opts)\n",
    "\n",
    "compression_opts = dict(method='zip', archive_name='data/test.csv')\n",
    "test.to_csv('data/test.zip', index=False, compression=compression_opts)"
   ]
  },
  {
   "cell_type": "code",
   "execution_count": 2,
   "metadata": {},
   "outputs": [],
   "source": [
    "train = pd.read_csv('train.zip')\n",
    "test = pd.read_csv('test.zip')"
   ]
  },
  {
   "cell_type": "code",
   "execution_count": 3,
   "metadata": {},
   "outputs": [],
   "source": [
    "train['tit'] = train['tit'].fillna('NT')\n",
    "train['foa'] = train['foa'].fillna('NT')\n",
    "test['tit'] = test['tit'].fillna('NT')\n",
    "test['foa'] = test['foa'].fillna('NT')\n",
    "train = train.drop(columns=['wtit', 'otit', 'flag'], axis=1)\n",
    "test = test.drop(columns=['wtit', 'otit', 'flag'], axis=1)"
   ]
  },
  {
   "cell_type": "code",
   "execution_count": 8,
   "metadata": {},
   "outputs": [],
   "source": [
    "train['foa'] = train['foa'].str.replace(',IO', 'IO')\n",
    "train['foa'] = train['foa'].str.replace('FTIO', 'FT,IO')\n",
    "train['foa'] = train['foa'].str.replace('FI    AIM', 'FI,AIM')\n",
    "train['foa'] = train['foa'].str.replace('IA    AGM', 'IA,AGM')"
   ]
  },
  {
   "cell_type": "code",
   "execution_count": 9,
   "metadata": {},
   "outputs": [],
   "source": [
    "train['tit'] = train['tit'].fillna('NT')\n",
    "test['tit'] = test['tit'].fillna('NT')"
   ]
  },
  {
   "cell_type": "code",
   "execution_count": 10,
   "metadata": {},
   "outputs": [],
   "source": [
    "train['k'].replace([2, 10, 15, 20, 40],\n",
    "                        [0, 1, 2, 3, 4], inplace=True)"
   ]
  },
  {
   "cell_type": "code",
   "execution_count": 11,
   "metadata": {},
   "outputs": [],
   "source": [
    "test['k'].replace([2, 10, 15, 20, 40],\n",
    "                        [0, 1, 2, 3, 4], inplace=True)"
   ]
  },
  {
   "cell_type": "code",
   "execution_count": 12,
   "metadata": {},
   "outputs": [],
   "source": [
    "train = train.drop(columns=['year', 'mon'], axis=1)\n",
    "test = test.drop(columns=['year', 'mon'], axis=1)"
   ]
  },
  {
   "cell_type": "code",
   "execution_count": 13,
   "metadata": {},
   "outputs": [],
   "source": [
    "train['fed'].replace(['IND','BAN','MAS','CHN','IRQ','BRN','INA','GER','IRI','SWE','NOR','DEN','SRI','SGP','TAN','USA','SCO','NED','FIN','ESP','FRA','MAR','ENG','EGY','JOR','TUR','CUB','PER','ECU','DOM','URU','RUS','SUI','KGZ','PLE','PHI','GEO','UKR','ARG','ISR','BOL','CHI','MEX','CRC','ESA','AUS','ETH','AZE','TUN','VEN','ITA','CYP','GRE','KAZ','CRO','LBN','JAM','CAN','SYR','BEL','ALG','UZB','BRA','MTN','LBA','SUD','POL','UAE','YEM','BIH','SOM','PAR','SUR','TKM','MDV','QAT','AFG','PAK','NGR','TJK','ROU','POR','SLO','JPN','ANG','HUN','SRB','SVK','MLT','MAC','CZE','ARM','BRU','ZAM','EST','AUT','FID','LTU','LAT','TTO','KSA','LBR','RSA','NZL','MDA','BLR','MNE','MOZ','COL','KUW','KEN','NCA','SEY','GUA','PUR','MRI','NEP','HKG','LUX','GHA','ISV','PLW','ISL','ERI','WLS','KOS','SLE','ALB','FIJ','MGL','HAI','BUL','TOG','CMR','PAN','SOL','IRL','DJI','KOR','UGA','MKD','CIV','OMA','BOT','SSD','THA','ZIM','AND','MLI','GUY','MAD','BAR','HON','TLS','BER','VIE','FAI','MNC','ARU','MYA','TPE','JCI','ANT','SEN','GAM','LES','MAW','GUM','RWA','CPV','CGO','GCI','AHO','SMR','NAM','BUR','GAB','LAO','BHU','IVB','BDI','BAH','STP','NRU','SWZ','LIE','PNG','CAF','CAM','Ind','COD','LCA','CAY','IOM'],\n",
    "                        [0, 1, 2, 3, 4, 5, 6, 7, 8, 9, 10, 11, 12, 13, 14, 15, 16, 17, 18, 19, 20, 21, 22, 23, 24, 25, 26, 27, 28, 29, 30, 31, 32, 33, 34, 35, 36, 37, 38, 39, 40, 41, 42, 43, 44, 45, 46, 47, 48, 49, 50, 51, 52, 53, 54, 55, 56, 57, 58, 59, 60, 61, 62, 63, 64, 65, 66, 67, 68, 69, 70, 71, 72, 73, 74, 75, 76, 77, 78, 79, 80, 81, 82, 83, 84, 85, 86, 87, 88, 89, 90, 91, 92, 93, 94, 95, 96, 97, 98, 99, 100, 101, 102, 103, 104, 105, 106, 107, 108, 109, 110, 111, 112, 113, 114, 115, 116, 117, 118, 119, 120, 121, 122, 123, 124, 125, 126, 127, 128, 129, 130, 131, 132, 133, 134, 135, 136, 137, 138, 139, 140, 141, 142, 143, 144, 145, 146, 147, 148, 149, 150, 151, 152, 153, 154, 155, 156, 157, 158, 159, 160, 161, 162, 163, 164, 165, 166, 167, 168, 169, 170, 171, 172, 173, 174, 175, 176, 177, 178, 179, 180, 181, 182, 183, 184, 185, 186, 187, 188, 189, 190, 191, 192, 193], inplace=True)\n"
   ]
  },
  {
   "cell_type": "code",
   "execution_count": 14,
   "metadata": {},
   "outputs": [],
   "source": [
    "test['fed'].replace(['IND','BAN','MAS','CHN','IRQ','BRN','INA','GER','IRI','SWE','NOR','DEN','SRI','SGP','TAN','USA','SCO','NED','FIN','ESP','FRA','MAR','ENG','EGY','JOR','TUR','CUB','PER','ECU','DOM','URU','RUS','SUI','KGZ','PLE','PHI','GEO','UKR','ARG','ISR','BOL','CHI','MEX','CRC','ESA','AUS','ETH','AZE','TUN','VEN','ITA','CYP','GRE','KAZ','CRO','LBN','JAM','CAN','SYR','BEL','ALG','UZB','BRA','MTN','LBA','SUD','POL','UAE','YEM','BIH','SOM','PAR','SUR','TKM','MDV','QAT','AFG','PAK','NGR','TJK','ROU','POR','SLO','JPN','ANG','HUN','SRB','SVK','MLT','MAC','CZE','ARM','BRU','ZAM','EST','AUT','FID','LTU','LAT','TTO','KSA','LBR','RSA','NZL','MDA','BLR','MNE','MOZ','COL','KUW','KEN','NCA','SEY','GUA','PUR','MRI','NEP','HKG','LUX','GHA','ISV','PLW','ISL','ERI','WLS','KOS','SLE','ALB','FIJ','MGL','HAI','BUL','TOG','CMR','PAN','SOL','IRL','DJI','KOR','UGA','MKD','CIV','OMA','BOT','SSD','THA','ZIM','AND','MLI','GUY','MAD','BAR','HON','TLS','BER','VIE','FAI','MNC','ARU','MYA','TPE','JCI','ANT','SEN','GAM','LES','MAW','GUM','RWA','CPV','GCI','AHO','SMR','NAM','BUR','GAB','LAO','BHU','IVB','BDI','BAH','STP','NRU','SWZ','LIE','PNG','CAF','CAM','Ind','COD','LCA','CAY','IOM'],\n",
    "                        [0, 1, 2, 3, 4, 5, 6, 7, 8, 9, 10, 11, 12, 13, 14, 15, 16, 17, 18, 19, 20, 21, 22, 23, 24, 25, 26, 27, 28, 29, 30, 31, 32, 33, 34, 35, 36, 37, 38, 39, 40, 41, 42, 43, 44, 45, 46, 47, 48, 49, 50, 51, 52, 53, 54, 55, 56, 57, 58, 59, 60, 61, 62, 63, 64, 65, 66, 67, 68, 69, 70, 71, 72, 73, 74, 75, 76, 77, 78, 79, 80, 81, 82, 83, 84, 85, 86, 87, 88, 89, 90, 91, 92, 93, 94, 95, 96, 97, 98, 99, 100, 101, 102, 103, 104, 105, 106, 107, 108, 109, 110, 111, 112, 113, 114, 115, 116, 117, 118, 119, 120, 121, 122, 123, 124, 125, 126, 127, 128, 129, 130, 131, 132, 133, 134, 135, 136, 137, 138, 139, 140, 141, 142, 143, 144, 145, 146, 147, 148, 149, 150, 151, 152, 153, 154, 155, 156, 157, 158, 159, 160, 161, 162, 163, 164, 165, 166, 167, 168, 169, 171, 172, 173, 174, 175, 176, 177, 178, 179, 180, 181, 182, 183, 184, 185, 186, 187, 188, 189, 190, 191, 192, 193], inplace=True)\n"
   ]
  },
  {
   "cell_type": "code",
   "execution_count": 15,
   "metadata": {},
   "outputs": [],
   "source": [
    "train['foa'].replace(['NT', 'ACM', 'AFM', 'AIM', 'AGM', 'FI,FA,IA,FT,IO,SIAGM', 'SI,SI', 'IA', 'FST', 'IO', 'FI,AIM', 'IO,FT', 'FT', 'SI', 'IA,AGM', 'IA,SI', 'FI', 'DI', 'SIAG'],\n",
    "                        [0, 1, 2, 3, 4, 5, 6, 7, 8, 9, 10, 11, 12, 13, 14, 15, 16, 17, 18], inplace=True)"
   ]
  },
  {
   "cell_type": "code",
   "execution_count": 16,
   "metadata": {},
   "outputs": [],
   "source": [
    "test['foa'].replace(['NT', 'ACM', 'AFM', 'AIM', 'AGM', 'SIAG', 'SI'],\n",
    "                        [0, 1, 2, 3, 4, 18, 13], inplace=True)"
   ]
  },
  {
   "cell_type": "code",
   "execution_count": 17,
   "metadata": {},
   "outputs": [],
   "source": [
    "train['tit'].replace(['NT', 'WFM', 'IM', 'GM', 'WIM', 'FM', 'CM', 'WCM', 'WGM', 'WH'],\n",
    "                        [0, 1, 2, 3, 4, 5, 6, 7, 8, 9], inplace=True)"
   ]
  },
  {
   "cell_type": "code",
   "execution_count": 18,
   "metadata": {},
   "outputs": [],
   "source": [
    "test['tit'].replace(['NT', 'WFM', 'IM', 'GM', 'WIM', 'FM', 'CM', 'WCM', 'WGM', 'WH'],\n",
    "                        [0, 1, 2, 3, 4, 5, 6, 7, 8, 9], inplace=True)"
   ]
  },
  {
   "cell_type": "code",
   "execution_count": 19,
   "metadata": {},
   "outputs": [],
   "source": [
    "train['sex'].replace(['M', 'F'], [0, 1], inplace=True)\n",
    "test['sex'].replace(['M', 'F'], [0, 1], inplace=True)"
   ]
  },
  {
   "cell_type": "code",
   "execution_count": 22,
   "metadata": {},
   "outputs": [],
   "source": [
    "train = train.drop(columns=['id number'], axis=1)\n",
    "test = test.drop(columns=['id number'], axis=1)"
   ]
  },
  {
   "cell_type": "code",
   "execution_count": 23,
   "metadata": {},
   "outputs": [],
   "source": [
    "train = train.drop(columns=['ratdiff'], axis=1)\n",
    "test = test.drop(columns=['ratdiff'], axis=1)"
   ]
  },
  {
   "cell_type": "code",
   "execution_count": 25,
   "metadata": {},
   "outputs": [],
   "source": [
    "df['foa'] = df['foa'].str.replace(',IO', 'IO')\n",
    "df['foa'] = df['foa'].str.replace('FTIO', 'FT,IO')\n",
    "df['foa'] = df['foa'].str.replace('FI    AIM', 'FI,AIM')\n",
    "df['foa'] = df['foa'].str.replace('IA    AGM', 'IA,AGM')\n",
    "foa_type = pd.CategoricalDtype(categories=['NT', 'ACM', 'AFM', 'AIM', 'AGM', 'FI,FA,IA,FT,IO,SIAGM', 'SI,SI', 'IA', 'FST', 'IO', 'FI,AIM', 'IO,FT', 'FT', 'SI', 'IA,AGM', 'IA,SI', 'FI', 'DI', 'SIAG'], ordered=False)\n",
    "df[\"foa\"] = df[\"foa\"].astype(foa_type)\n",
    "df['foa'].replace(['NT', 'ACM', 'AFM', 'AIM', 'AGM', 'FI,FA,IA,FT,IO,SIAGM', 'SI,SI', 'IA', 'FST', 'IO', 'FI,AIM', 'IO,FT', 'FT', 'SI', 'IA,AGM', 'IA,SI', 'FI', 'DI', 'SIAG'],\n",
    "                        [0, 1, 2, 3, 4, 5, 6, 7, 8, 9, 10, 11, 12, 13, 14, 15, 16, 17, 18], inplace=True)\n",
    "tit_type = pd.CategoricalDtype(categories=['NT', 'WFM', 'IM', 'GM', 'WIM', 'FM', 'CM', 'WCM', 'WGM', 'WH'], ordered=False)\n",
    "df[\"tit\"] = df[\"tit\"].astype(tit_type)\n",
    "df['tit'].replace(['NT', 'WFM', 'IM', 'GM', 'WIM', 'FM', 'CM', 'WCM', 'WGM', 'WH'],\n",
    "                        [0, 1, 2, 3, 4, 5, 6, 7, 8, 9], inplace=True)\n",
    "sex_type = pd.CategoricalDtype(categories=['M', 'F'], ordered=False)\n",
    "df[\"sex\"] = df[\"sex\"].astype(sex_type)\n",
    "df['sex'].replace(['M', 'F'], [0, 1], inplace=True)\n",
    "fed_type = pd.CategoricalDtype(categories=['IND','BAN','MAS','CHN','IRQ','BRN','INA','GER','IRI','SWE','NOR','DEN','SRI','SGP','TAN','USA','SCO','NED','FIN','ESP','FRA','MAR','ENG','EGY','JOR','TUR','CUB','PER','ECU','DOM','URU','RUS','SUI','KGZ','PLE','PHI','GEO','UKR','ARG','ISR','BOL','CHI','MEX','CRC','ESA','AUS','ETH','AZE','TUN','VEN','ITA','CYP','GRE','KAZ','CRO','LBN','JAM','CAN','SYR','BEL','ALG','UZB','BRA','MTN','LBA','SUD','POL','UAE','YEM','BIH','SOM','PAR','SUR','TKM','MDV','QAT','AFG','PAK','NGR','TJK','ROU','POR','SLO','JPN','ANG','HUN','SRB','SVK','MLT','MAC','CZE','ARM','BRU','ZAM','EST','AUT','FID','LTU','LAT','TTO','KSA','LBR','RSA','NZL','MDA','BLR','MNE','MOZ','COL','KUW','KEN','NCA','SEY','GUA','PUR','MRI','NEP','HKG','LUX','GHA','ISV','PLW','ISL','ERI','WLS','KOS','SLE','ALB','FIJ','MGL','HAI','BUL','TOG','CMR','PAN','SOL','IRL','DJI','KOR','UGA','MKD','CIV','OMA','BOT','SSD','THA','ZIM','AND','MLI','GUY','MAD','BAR','HON','TLS','BER','VIE','FAI','MNC','ARU','MYA','TPE','JCI','ANT','SEN','GAM','LES','MAW','GUM','RWA','CPV','CGO','GCI','AHO','SMR','NAM','BUR','GAB','LAO','BHU','IVB','BDI','BAH','STP','NRU','SWZ','LIE','PNG','CAF','CAM','Ind','COD','LCA','CAY','IOM'], ordered=False)\n",
    "df[\"fed\"] = df[\"fed\"].astype(fed_type)\n",
    "df['fed'].replace(['IND','BAN','MAS','CHN','IRQ','BRN','INA','GER','IRI','SWE','NOR','DEN','SRI','SGP','TAN','USA','SCO','NED','FIN','ESP','FRA','MAR','ENG','EGY','JOR','TUR','CUB','PER','ECU','DOM','URU','RUS','SUI','KGZ','PLE','PHI','GEO','UKR','ARG','ISR','BOL','CHI','MEX','CRC','ESA','AUS','ETH','AZE','TUN','VEN','ITA','CYP','GRE','KAZ','CRO','LBN','JAM','CAN','SYR','BEL','ALG','UZB','BRA','MTN','LBA','SUD','POL','UAE','YEM','BIH','SOM','PAR','SUR','TKM','MDV','QAT','AFG','PAK','NGR','TJK','ROU','POR','SLO','JPN','ANG','HUN','SRB','SVK','MLT','MAC','CZE','ARM','BRU','ZAM','EST','AUT','FID','LTU','LAT','TTO','KSA','LBR','RSA','NZL','MDA','BLR','MNE','MOZ','COL','KUW','KEN','NCA','SEY','GUA','PUR','MRI','NEP','HKG','LUX','GHA','ISV','PLW','ISL','ERI','WLS','KOS','SLE','ALB','FIJ','MGL','HAI','BUL','TOG','CMR','PAN','SOL','IRL','DJI','KOR','UGA','MKD','CIV','OMA','BOT','SSD','THA','ZIM','AND','MLI','GUY','MAD','BAR','HON','TLS','BER','VIE','FAI','MNC','ARU','MYA','TPE','JCI','ANT','SEN','GAM','LES','MAW','GUM','RWA','CPV','CGO','GCI','AHO','SMR','NAM','BUR','GAB','LAO','BHU','IVB','BDI','BAH','STP','NRU','SWZ','LIE','PNG','CAF','CAM','Ind','COD','LCA','CAY','IOM'],\n",
    "                        [0, 1, 2, 3, 4, 5, 6, 7, 8, 9, 10, 11, 12, 13, 14, 15, 16, 17, 18, 19, 20, 21, 22, 23, 24, 25, 26, 27, 28, 29, 30, 31, 32, 33, 34, 35, 36, 37, 38, 39, 40, 41, 42, 43, 44, 45, 46, 47, 48, 49, 50, 51, 52, 53, 54, 55, 56, 57, 58, 59, 60, 61, 62, 63, 64, 65, 66, 67, 68, 69, 70, 71, 72, 73, 74, 75, 76, 77, 78, 79, 80, 81, 82, 83, 84, 85, 86, 87, 88, 89, 90, 91, 92, 93, 94, 95, 96, 97, 98, 99, 100, 101, 102, 103, 104, 105, 106, 107, 108, 109, 110, 111, 112, 113, 114, 115, 116, 117, 118, 119, 120, 121, 122, 123, 124, 125, 126, 127, 128, 129, 130, 131, 132, 133, 134, 135, 136, 137, 138, 139, 140, 141, 142, 143, 144, 145, 146, 147, 148, 149, 150, 151, 152, 153, 154, 155, 156, 157, 158, 159, 160, 161, 162, 163, 164, 165, 166, 167, 168, 169, 170, 171, 172, 173, 174, 175, 176, 177, 178, 179, 180, 181, 182, 183, 184, 185, 186, 187, 188, 189, 190, 191, 192, 193], inplace=True)\n",
    "df = df.drop(columns=['wtit', 'otit', 'flag', 'id number', 'ratdiff', 'mon', 'year'], axis=1)\n"
   ]
  },
  {
   "cell_type": "code",
   "execution_count": 35,
   "metadata": {},
   "outputs": [],
   "source": [
    "compression_opts = dict(method='zip', archive_name='data/train_prepared.csv')\n",
    "train.to_csv('data/train_prepared.zip', index=False, compression=compression_opts)\n",
    "\n",
    "compression_opts = dict(method='zip', archive_name='data/test_prepared.csv')\n",
    "test.to_csv('data/test_prepared.zip', index=False, compression=compression_opts)\n",
    "\n",
    "compression_opts = dict(method='zip', archive_name='full_prepared.csv')\n",
    "df.to_csv('data/full_prepared.zip', index=False, compression=compression_opts)"
   ]
  }
 ],
 "metadata": {
  "kernelspec": {
   "display_name": "Python 3.9.10 64-bit",
   "language": "python",
   "name": "python3"
  },
  "language_info": {
   "codemirror_mode": {
    "name": "ipython",
    "version": 3
   },
   "file_extension": ".py",
   "mimetype": "text/x-python",
   "name": "python",
   "nbconvert_exporter": "python",
   "pygments_lexer": "ipython3",
   "version": "3.9.10"
  },
  "orig_nbformat": 4,
  "vscode": {
   "interpreter": {
    "hash": "2305800fefceda3f2e2d019a83e737014c066fed7151de411f61bfc53e80d6fc"
   }
  }
 },
 "nbformat": 4,
 "nbformat_minor": 2
}
